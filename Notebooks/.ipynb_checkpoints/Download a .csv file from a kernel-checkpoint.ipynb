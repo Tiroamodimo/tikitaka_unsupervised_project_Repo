{
 "cells": [
  {
   "cell_type": "markdown",
   "metadata": {
    "_uuid": "2426a7185273d1680318ee05ffc5bf0994beec00",
    "collapsed": true
   },
   "source": [
    "Someone asked [on the forums](https://www.kaggle.com/product-feedback/61487#post359375) whether it was possible to download a file directly from the kernel without having to commit it. I did some poking around and found a nifty example [Polong Lin](http://www.polonglin.com) that allows you to do just that by creating a download link for a data file. \n",
    "\n",
    "The download link will work in both the editor and kernel viewer. "
   ]
  },
  {
   "cell_type": "code",
   "execution_count": null,
   "metadata": {
    "_uuid": "2e5aa08616661bc9d73b87907db1c1c6f4ad6cf4"
   },
   "outputs": [],
   "source": [
    "# import the modules we'll need\n",
    "from IPython.display import HTML\n",
    "import pandas as pd\n",
    "import numpy as np\n",
    "import base64\n",
    "\n",
    "# function that takes in a dataframe and creates a text link to  \n",
    "# download it (will only work for files < 2MB or so)\n",
    "def create_download_link(df, title = \"Download CSV file\", filename = \"data.csv\"):  \n",
    "    csv = df.to_csv()\n",
    "    b64 = base64.b64encode(csv.encode())\n",
    "    payload = b64.decode()\n",
    "    html = '<a download=\"{filename}\" href=\"data:text/csv;base64,{payload}\" target=\"_blank\">{title}</a>'\n",
    "    html = html.format(payload=payload,title=title,filename=filename)\n",
    "    return HTML(html)\n",
    "\n",
    "# create a random sample dataframe\n",
    "df = pd.DataFrame(np.random.randn(50, 4), columns=list('ABCD'))\n",
    "\n",
    "# create a link to download the dataframe\n",
    "create_download_link(df)\n",
    "\n",
    "# ↓ ↓ ↓  Yay, download link! ↓ ↓ ↓ "
   ]
  }
 ],
 "metadata": {
  "kernelspec": {
   "display_name": "Python 3",
   "language": "python",
   "name": "python3"
  },
  "language_info": {
   "codemirror_mode": {
    "name": "ipython",
    "version": 3
   },
   "file_extension": ".py",
   "mimetype": "text/x-python",
   "name": "python",
   "nbconvert_exporter": "python",
   "pygments_lexer": "ipython3",
   "version": "3.7.6"
  }
 },
 "nbformat": 4,
 "nbformat_minor": 1
}
